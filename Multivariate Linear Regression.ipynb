{
 "cells": [
  {
   "cell_type": "code",
   "execution_count": 1,
   "metadata": {},
   "outputs": [],
   "source": [
    "import pandas as pd\n",
    "import numpy as np\n",
    "import seaborn as sns\n",
    "import matplotlib.pyplot as plt\n",
    "from sklearn.model_selection import train_test_split"
   ]
  },
  {
   "cell_type": "markdown",
   "metadata": {},
   "source": [
    "## Defining Required Functions "
   ]
  },
  {
   "cell_type": "code",
   "execution_count": 2,
   "metadata": {},
   "outputs": [],
   "source": [
    "def obj_func(predictors, response, betas):\n",
    "    prediction = np.dot(predictors, betas)\n",
    "    error = np.sum((response - prediction) ** 2)\n",
    "    return error / (2 * len(error))"
   ]
  },
  {
   "cell_type": "code",
   "execution_count": 3,
   "metadata": {},
   "outputs": [],
   "source": [
    "def add_intercept(predictors):\n",
    "    intercept = np.ones((predictors.shape[0],1))\n",
    "    return np.concatenate((intercept, predictors),axis = 1)"
   ]
  },
  {
   "cell_type": "code",
   "execution_count": 4,
   "metadata": {},
   "outputs": [],
   "source": [
    "def linear_regressor(predictor, response, learning_rate, num_steps):\n",
    "    predictors = add_intercept(predictor)\n",
    "    betas = np.zeros(predictors.shape[1])\n",
    "    for i in range(num_steps):\n",
    "        predictions = np.dot(predictors, betas)\n",
    "        error = predictions - response\n",
    "        # gradient = np.dot(predictors.T, error)\n",
    "        for i in range(0,len(betas)):\n",
    "            betas[i] = betas[i] - learning_rate * (error * predictors[:,i]).mean()\n",
    "    return betas"
   ]
  },
  {
   "cell_type": "code",
   "execution_count": 5,
   "metadata": {},
   "outputs": [],
   "source": [
    "def root_mse(y_pred, y_test):\n",
    "    sse = (y_test - y_pred) ** 2\n",
    "    mse = sse.mean()\n",
    "    return np.sqrt(mse)"
   ]
  },
  {
   "cell_type": "markdown",
   "metadata": {},
   "source": [
    "## Data Loading "
   ]
  },
  {
   "cell_type": "code",
   "execution_count": 6,
   "metadata": {},
   "outputs": [],
   "source": [
    "# https://archive.ics.uci.edu/ml/datasets/Combined+Cycle+Power+Plant\n",
    "# Taking a publicly available dataset to run linear regression\n",
    "power = pd.read_csv('cycle_power_plant.csv')"
   ]
  },
  {
   "cell_type": "markdown",
   "metadata": {},
   "source": [
    "## Plotting the correlation of predictors "
   ]
  },
  {
   "cell_type": "code",
   "execution_count": 7,
   "metadata": {},
   "outputs": [
    {
     "data": {
      "image/png": "[encoded data removed]",
      "text/plain": [
       "<matplotlib.figure.Figure at 0x24f35fef080>"
      ]
     },
     "metadata": {},
     "output_type": "display_data"
    }
   ],
   "source": [
    "plt.figure\n",
    "sns.set(font_scale=1.5)\n",
    "sns.heatmap(power.loc[:,['AT','V','AP','RH']].corr(), square = True, cbar=True, annot=True, annot_kws={'size': 10})\n",
    "plt.show()"
   ]
  },
  {
   "cell_type": "markdown",
   "metadata": {},
   "source": [
    "## Data Transformation "
   ]
  },
  {
   "cell_type": "code",
   "execution_count": 8,
   "metadata": {},
   "outputs": [],
   "source": [
    "# Splitting into predictors and response variable\n",
    "X = power.loc[:,['AT','V','AP','RH']]\n",
    "y = power.loc[:,'PE']\n",
    "\n",
    "# Splitting the data into train and test sets\n",
    "X_train, X_test, y_train, y_test = train_test_split(X, y, test_size=0.20)\n",
    "\n",
    "# Normalizing the data to reduce effect of any predictor on the regression coefficients\n",
    "X_train_mean = X_train.mean()\n",
    "X_train_sd = X_train.std()\n",
    "X_train_std = (X_train - X_train_mean) / X_train_sd\n",
    "X_test_std = (X_test - X_train_mean) / X_train_sd\n",
    "y_train_mean = y_train.mean()\n",
    "y_train_sd = y_train.std()\n",
    "y_train_std = (y_train - y_train_mean) / y_train_sd\n",
    "y_test_std = (y_test - y_train_mean) / y_train_sd"
   ]
  },
  {
   "cell_type": "code",
   "execution_count": 9,
   "metadata": {},
   "outputs": [],
   "source": [
    "result = linear_regressor(X_train_std, y_train_std, 0.01, 500)"
   ]
  },
  {
   "cell_type": "code",
   "execution_count": 10,
   "metadata": {},
   "outputs": [
    {
     "name": "stdout",
     "output_type": "stream",
     "text": [
      "Train Set RMSE: 0.28981154516452623\n"
     ]
    }
   ],
   "source": [
    "predictors = add_intercept(X_train_std)\n",
    "y_pred = np.dot(predictors, result)\n",
    "print('Train Set RMSE: {0}'.format(root_mse(y_pred, y_train_std)))"
   ]
  },
  {
   "cell_type": "code",
   "execution_count": 11,
   "metadata": {},
   "outputs": [
    {
     "name": "stdout",
     "output_type": "stream",
     "text": [
      "Test Set RMSE: 0.2969033778269969\n"
     ]
    }
   ],
   "source": [
    "predictors = add_intercept(X_test_std)\n",
    "y_pred = np.dot(predictors, result)\n",
    "print('Test Set RMSE: {0}'.format(root_mse(y_pred, y_test_std)))"
   ]
  }
 ],
 "metadata": {
  "kernelspec": {
   "display_name": "Python 3",
   "language": "python",
   "name": "python3"
  },
  "language_info": {
   "codemirror_mode": {
    "name": "ipython",
    "version": 3
   },
   "file_extension": ".py",
   "mimetype": "text/x-python",
   "name": "python",
   "nbconvert_exporter": "python",
   "pygments_lexer": "ipython3",
   "version": "3.6.4"
  }
 },
 "nbformat": 4,
 "nbformat_minor": 2
}
